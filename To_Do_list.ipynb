{
  "nbformat": 4,
  "nbformat_minor": 0,
  "metadata": {
    "colab": {
      "provenance": [],
      "authorship_tag": "ABX9TyMWQptzYeV62NPyJANM+1cb",
      "include_colab_link": true
    },
    "kernelspec": {
      "name": "python3",
      "display_name": "Python 3"
    },
    "language_info": {
      "name": "python"
    }
  },
  "cells": [
    {
      "cell_type": "markdown",
      "metadata": {
        "id": "view-in-github",
        "colab_type": "text"
      },
      "source": [
        "<a href=\"https://colab.research.google.com/github/laahiri2005/Technohacks/blob/main/To_Do_list.ipynb\" target=\"_parent\"><img src=\"https://colab.research.google.com/assets/colab-badge.svg\" alt=\"Open In Colab\"/></a>"
      ]
    },
    {
      "cell_type": "code",
      "execution_count": 1,
      "metadata": {
        "id": "dqAjVNrmahmY"
      },
      "outputs": [],
      "source": [
        "# Function to display menu options\n",
        "def display_menu():\n",
        "    print(\"\\nWelcome to To-Do List Manager!\")\n",
        "    print(\"1. View To-Do List\")\n",
        "    print(\"2. Add Item to To-Do List\")\n",
        "    print(\"3. Mark Item as Done\")\n",
        "    print(\"4. Remove Item from To-Do List\")\n",
        "    print(\"5. Exit\")\n",
        "\n"
      ]
    },
    {
      "cell_type": "code",
      "source": [
        "# Function to view the current to-do list\n",
        "def view_todo_list(todo_list):\n",
        "    print(\"\\nCurrent To-Do List:\")\n",
        "    if not todo_list:\n",
        "        print(\"Empty!\")\n",
        "    else:\n",
        "        for index, item in enumerate(todo_list, start=1):\n",
        "            print(f\"{index}. {item}\")"
      ],
      "metadata": {
        "id": "L-kk2ERianSy"
      },
      "execution_count": 2,
      "outputs": []
    },
    {
      "cell_type": "code",
      "source": [
        "# Function to add an item to the to-do list\n",
        "def add_todo_item(todo_list):\n",
        "    item = input(\"\\nEnter the item to add: \")\n",
        "    todo_list.append(item)\n",
        "    print(f'\"{item}\" added to the To-Do List.')"
      ],
      "metadata": {
        "id": "zRnanGtVaqAT"
      },
      "execution_count": 3,
      "outputs": []
    },
    {
      "cell_type": "code",
      "source": [
        "# Function to mark an item as done\n",
        "def mark_todo_done(todo_list):\n",
        "    view_todo_list(todo_list)\n",
        "    if not todo_list:\n",
        "        return\n",
        "    try:\n",
        "        index = int(input(\"\\nEnter the index of the item to mark as done: \")) - 1\n",
        "        if 0 <= index < len(todo_list):\n",
        "            print(f'\"{todo_list[index]}\" marked as done.')\n",
        "            todo_list[index] = f'{todo_list[index]} (DONE)'\n",
        "        else:\n",
        "            print(\"Invalid index.\")\n",
        "    except ValueError:\n",
        "        print(\"Invalid input. Please enter a valid index.\")"
      ],
      "metadata": {
        "id": "1evFPKP0auvt"
      },
      "execution_count": 4,
      "outputs": []
    },
    {
      "cell_type": "code",
      "source": [
        "# Function to remove an item from the to-do list\n",
        "def remove_todo_item(todo_list):\n",
        "    view_todo_list(todo_list)\n",
        "    if not todo_list:\n",
        "        return\n",
        "    try:\n",
        "        index = int(input(\"\\nEnter the index of the item to remove: \")) - 1\n",
        "        if 0 <= index < len(todo_list):\n",
        "            removed_item = todo_list.pop(index)\n",
        "            print(f'\"{removed_item}\" removed from the To-Do List.')\n",
        "        else:\n",
        "            print(\"Invalid index.\")\n",
        "    except ValueError:\n",
        "        print(\"Invalid input. Please enter a valid index.\")\n"
      ],
      "metadata": {
        "id": "yP6k7f6ga2HS"
      },
      "execution_count": 5,
      "outputs": []
    },
    {
      "cell_type": "code",
      "source": [
        "# Main function to manage the to-do list\n",
        "def main():\n",
        "    todo_list = []\n",
        "    while True:\n",
        "        display_menu()\n",
        "        choice = input(\"\\nEnter your choice: \")\n",
        "        if choice == '1':\n",
        "            view_todo_list(todo_list)\n",
        "        elif choice == '2':\n",
        "            add_todo_item(todo_list)\n",
        "        elif choice == '3':\n",
        "            mark_todo_done(todo_list)\n",
        "        elif choice == '4':\n",
        "            remove_todo_item(todo_list)\n",
        "        elif choice == '5':\n",
        "            print(\"\\nThank you for using To-Do List Manager. Goodbye!\")\n",
        "            break\n",
        "        else:\n",
        "            print(\"\\nInvalid choice. Please enter a valid option (1-5).\")\n",
        "\n",
        "if __name__ == \"__main__\":\n",
        "    main()"
      ],
      "metadata": {
        "colab": {
          "base_uri": "https://localhost:8080/"
        },
        "id": "8yPMke9Ha-c0",
        "outputId": "47f19554-1d7f-4be6-e49e-35aab4136aa0"
      },
      "execution_count": 6,
      "outputs": [
        {
          "output_type": "stream",
          "name": "stdout",
          "text": [
            "\n",
            "Welcome to To-Do List Manager!\n",
            "1. View To-Do List\n",
            "2. Add Item to To-Do List\n",
            "3. Mark Item as Done\n",
            "4. Remove Item from To-Do List\n",
            "5. Exit\n",
            "\n",
            "Enter your choice: 2\n",
            "\n",
            "Enter the item to add: do infotech intern\n",
            "\"do infotech intern\" added to the To-Do List.\n",
            "\n",
            "Welcome to To-Do List Manager!\n",
            "1. View To-Do List\n",
            "2. Add Item to To-Do List\n",
            "3. Mark Item as Done\n",
            "4. Remove Item from To-Do List\n",
            "5. Exit\n",
            "\n",
            "Enter your choice: 2\n",
            "\n",
            "Enter the item to add: complete the intern\n",
            "\"complete the intern\" added to the To-Do List.\n",
            "\n",
            "Welcome to To-Do List Manager!\n",
            "1. View To-Do List\n",
            "2. Add Item to To-Do List\n",
            "3. Mark Item as Done\n",
            "4. Remove Item from To-Do List\n",
            "5. Exit\n",
            "\n",
            "Enter your choice: 2\n",
            "\n",
            "Enter the item to add: submit intern\n",
            "\"submit intern\" added to the To-Do List.\n",
            "\n",
            "Welcome to To-Do List Manager!\n",
            "1. View To-Do List\n",
            "2. Add Item to To-Do List\n",
            "3. Mark Item as Done\n",
            "4. Remove Item from To-Do List\n",
            "5. Exit\n",
            "\n",
            "Enter your choice: 1\n",
            "\n",
            "Current To-Do List:\n",
            "1. do infotech intern\n",
            "2. complete the intern\n",
            "3. submit intern\n",
            "\n",
            "Welcome to To-Do List Manager!\n",
            "1. View To-Do List\n",
            "2. Add Item to To-Do List\n",
            "3. Mark Item as Done\n",
            "4. Remove Item from To-Do List\n",
            "5. Exit\n",
            "\n",
            "Enter your choice: 3\n",
            "\n",
            "Current To-Do List:\n",
            "1. do infotech intern\n",
            "2. complete the intern\n",
            "3. submit intern\n",
            "\n",
            "Enter the index of the item to mark as done: 1\n",
            "\"do infotech intern\" marked as done.\n",
            "\n",
            "Welcome to To-Do List Manager!\n",
            "1. View To-Do List\n",
            "2. Add Item to To-Do List\n",
            "3. Mark Item as Done\n",
            "4. Remove Item from To-Do List\n",
            "5. Exit\n",
            "\n",
            "Enter your choice: 5\n",
            "\n",
            "Thank you for using To-Do List Manager. Goodbye!\n"
          ]
        }
      ]
    }
  ]
}