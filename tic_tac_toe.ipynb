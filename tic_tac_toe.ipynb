{
  "cells": [
    {
      "cell_type": "markdown",
      "metadata": {
        "id": "view-in-github",
        "colab_type": "text"
      },
      "source": [
        "<a href=\"https://colab.research.google.com/github/laahiri2005/Technohacks/blob/main/tic_tac_toe.ipynb\" target=\"_parent\"><img src=\"https://colab.research.google.com/assets/colab-badge.svg\" alt=\"Open In Colab\"/></a>"
      ]
    },
    {
      "cell_type": "code",
      "execution_count": 1,
      "metadata": {
        "id": "uvGo51TNc4f3"
      },
      "outputs": [],
      "source": [
        "import random\n",
        "\n",
        "def print_board(board):\n",
        "    print(\" \" + board[0] + \" | \" + board[1] + \" | \" + board[2])\n",
        "    print(\"---+---+---\")\n",
        "    print(\" \" + board[3] + \" | \" + board[4] + \" | \" + board[5])\n",
        "    print(\"---+---+---\")\n",
        "    print(\" \" + board[6] + \" | \" + board[7] + \" | \" + board[8])"
      ]
    },
    {
      "cell_type": "code",
      "execution_count": 2,
      "metadata": {
        "id": "Li2nPRgUc7Y6"
      },
      "outputs": [],
      "source": [
        " def check_win(board):\n",
        "    win_conditions = [(0, 1, 2), (3, 4, 5), (6, 7, 8), (0, 3, 6), (1, 4, 7), (2, 5, 8), (0, 4, 8), (2, 4, 6)]\n",
        "    for condition in win_conditions:\n",
        "        if board[condition[0]] == board[condition[1]] == board[condition[2]]!= \" \":\n",
        "            return board[condition[0]]\n",
        "    if \" \" not in board:\n",
        "        return \"Tie\"\n",
        "    return False"
      ]
    },
    {
      "cell_type": "code",
      "execution_count": 3,
      "metadata": {
        "id": "hhDeSeLrdDa4"
      },
      "outputs": [],
      "source": [
        "def player_move(board, player):\n",
        "    while True:\n",
        "        move = input(\"Player \" + player + \", enter your move (1-9): \")\n",
        "        if move in \"123456789\" and board[int(move) - 1] == \" \":\n",
        "            board[int(move) - 1] = player\n",
        "            break\n",
        "        else:\n",
        "            print(\"Invalid move, try again.\")\n"
      ]
    },
    {
      "cell_type": "code",
      "execution_count": 4,
      "metadata": {
        "id": "4mPYluzTdGVF"
      },
      "outputs": [],
      "source": [
        "def computer_move(board):\n",
        "    possible_moves = [i for i, x in enumerate(board) if x == \" \"]\n",
        "    move = random.choice(possible_moves)\n",
        "    board[move] = \"O\""
      ]
    },
    {
      "cell_type": "code",
      "execution_count": 5,
      "metadata": {
        "id": "V2TqAKpxdKyx"
      },
      "outputs": [],
      "source": [
        "def computer_move(board, player):\n",
        "    \"\"\"\n",
        "    Function to handle computer's move (random move strategy).\n",
        "    \"\"\"\n",
        "    while True:\n",
        "        move = random.randint(0, 8)\n",
        "        if board[move] == ' ':\n",
        "            board[move] = player\n",
        "            break"
      ]
    },
    {
      "cell_type": "code",
      "execution_count": 6,
      "metadata": {
        "id": "FM6LPfDrdT-9"
      },
      "outputs": [],
      "source": [
        "def game():\n",
        "    board = [\" \"] * 9\n",
        "    current_player = \"X\"\n",
        "    while True:\n",
        "        print_board(board)\n",
        "        if current_player == \"X\":\n",
        "            player_move(board, current_player)\n",
        "        else:\n",
        "            # Pass the current player to the computer_move function\n",
        "            computer_move(board, current_player)\n",
        "        result = check_win(board)\n",
        "        if result:\n",
        "            print_board(board)\n",
        "            if result == \"Tie\":\n",
        "                print(\"It's a tie!\")\n",
        "            else:\n",
        "                print(\"Player \" + result + \" wins!\")\n",
        "            break\n",
        "        current_player = \"O\" if current_player == \"X\" else \"X\""
      ]
    },
    {
      "cell_type": "code",
      "source": [
        "def main():\n",
        "    while True:\n",
        "        print(\"Welcome to Tic Tac Toe!\")\n",
        "        print(\"1. Play against the computer\")\n",
        "        print(\"2. Play against another player\")\n",
        "        print(\"3. Quit\")\n",
        "        choice = input(\"Enter your choice: \")\n",
        "        if choice == \"1\":\n",
        "            game()\n",
        "            play_again = input(\"Do you want to play again? (yes/no): \")\n",
        "            if play_again.lower()!= \"yes\":\n",
        "                print(\"Goodbye!\")\n",
        "                break\n",
        "        elif choice == \"2\":\n",
        "            game_two_players()\n",
        "            play_again = input(\"Do you want to play again? (yes/no): \")\n",
        "            if play_again.lower()!= \"yes\":\n",
        "                print(\"Goodbye!\")\n",
        "                break\n",
        "        elif choice == \"3\":\n",
        "            print(\"Goodbye!\")\n",
        "            break\n",
        "        else:\n",
        "            print(\"Invalid choice, try again.\")"
      ],
      "metadata": {
        "id": "mvAPKDdu6GRo"
      },
      "execution_count": 7,
      "outputs": []
    },
    {
      "cell_type": "code",
      "source": [
        "def game_two_players():\n",
        "    board = [\" \"] * 9\n",
        "    current_player = \"X\"\n",
        "    while True:\n",
        "        print_board(board)\n",
        "        player_move(board, current_player)\n",
        "        result = check_win(board)\n",
        "        if result:\n",
        "            print_board(board)\n",
        "            if result == \"Tie\":\n",
        "                print(\"It's a tie!\")\n",
        "            else:\n",
        "                print(\"Player \" + result + \" wins!\")\n",
        "            break\n",
        "        current_player = \"O\" if current_player == \"X\" else \"X\"\n",
        "\n",
        "if __name__ == \"__main__\":\n",
        "    main()"
      ],
      "metadata": {
        "colab": {
          "base_uri": "https://localhost:8080/"
        },
        "id": "PP2jyXVd6V8F",
        "outputId": "1fcbcd87-96d8-4783-d8ff-e15213324a2d"
      },
      "execution_count": 8,
      "outputs": [
        {
          "output_type": "stream",
          "name": "stdout",
          "text": [
            "Welcome to Tic Tac Toe!\n",
            "1. Play against the computer\n",
            "2. Play against another player\n",
            "3. Quit\n",
            "Enter your choice: 2\n",
            "   |   |  \n",
            "---+---+---\n",
            "   |   |  \n",
            "---+---+---\n",
            "   |   |  \n",
            "Player X, enter your move (1-9): 1\n",
            " X |   |  \n",
            "---+---+---\n",
            "   |   |  \n",
            "---+---+---\n",
            "   |   |  \n",
            "Player O, enter your move (1-9): 3\n",
            " X |   | O\n",
            "---+---+---\n",
            "   |   |  \n",
            "---+---+---\n",
            "   |   |  \n",
            "Player X, enter your move (1-9): 5\n",
            " X |   | O\n",
            "---+---+---\n",
            "   | X |  \n",
            "---+---+---\n",
            "   |   |  \n",
            "Player O, enter your move (1-9): 6\n",
            " X |   | O\n",
            "---+---+---\n",
            "   | X | O\n",
            "---+---+---\n",
            "   |   |  \n",
            "Player X, enter your move (1-9): 9\n",
            " X |   | O\n",
            "---+---+---\n",
            "   | X | O\n",
            "---+---+---\n",
            "   |   | X\n",
            "Player X wins!\n",
            "Do you want to play again? (yes/no): no\n",
            "Goodbye!\n"
          ]
        }
      ]
    }
  ],
  "metadata": {
    "colab": {
      "provenance": [],
      "authorship_tag": "ABX9TyMlEHFZ8zBX6yU7kBKwtojP",
      "include_colab_link": true
    },
    "kernelspec": {
      "display_name": "Python 3",
      "name": "python3"
    },
    "language_info": {
      "name": "python"
    }
  },
  "nbformat": 4,
  "nbformat_minor": 0
}