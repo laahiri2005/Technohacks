{
  "nbformat": 4,
  "nbformat_minor": 0,
  "metadata": {
    "colab": {
      "provenance": [],
      "authorship_tag": "ABX9TyN5i49tx1m+BASTvzwedihJ",
      "include_colab_link": true
    },
    "kernelspec": {
      "name": "python3",
      "display_name": "Python 3"
    },
    "language_info": {
      "name": "python"
    }
  },
  "cells": [
    {
      "cell_type": "markdown",
      "metadata": {
        "id": "view-in-github",
        "colab_type": "text"
      },
      "source": [
        "<a href=\"https://colab.research.google.com/github/laahiri2005/Technohacks/blob/main/Random_password_generator.ipynb\" target=\"_parent\"><img src=\"https://colab.research.google.com/assets/colab-badge.svg\" alt=\"Open In Colab\"/></a>"
      ]
    },
    {
      "cell_type": "code",
      "execution_count": 1,
      "metadata": {
        "id": "Th_o3tUxYNxf"
      },
      "outputs": [],
      "source": [
        "import secrets\n",
        "import string\n",
        "\n",
        "def generate_password(length=12):\n",
        "    characters = string.ascii_letters + string.digits + string.punctuation\n",
        "    password = ''.join(secrets.choice(characters) for _ in range(length))\n",
        "    return password\n"
      ]
    },
    {
      "cell_type": "code",
      "source": [
        "def main():\n",
        "    print(\"Random Password Generator\")\n",
        "\n",
        "    try:\n",
        "        password_length = int(input(\"Enter the length of the password: \"))\n",
        "        num_passwords = int(input(\"Enter the number of passwords to generate: \"))\n",
        "    except ValueError:\n",
        "        print(\"Invalid input. Please enter valid numbers.\")\n",
        "        return\n",
        "\n",
        "    if password_length <= 0 or num_passwords <= 0:\n",
        "        print(\"Invalid input. Please enter positive numbers.\")\n",
        "        return\n",
        "\n",
        "    print(\"\\nGenerated Passwords:\")\n",
        "    for _ in range(num_passwords):\n",
        "        password = generate_password(password_length)\n",
        "        print(password)\n",
        "\n",
        "if __name__ == \"__main__\":\n",
        "    main()"
      ],
      "metadata": {
        "colab": {
          "base_uri": "https://localhost:8080/"
        },
        "id": "XS3GQ9csY9lH",
        "outputId": "fd3671b4-bdd2-40ab-f3af-943eba1f2661"
      },
      "execution_count": 2,
      "outputs": [
        {
          "output_type": "stream",
          "name": "stdout",
          "text": [
            "Random Password Generator\n",
            "Enter the length of the password: 3\n",
            "Enter the number of passwords to generate: 2\n",
            "\n",
            "Generated Passwords:\n",
            "mbk\n",
            "yja\n"
          ]
        }
      ]
    }
  ]
}